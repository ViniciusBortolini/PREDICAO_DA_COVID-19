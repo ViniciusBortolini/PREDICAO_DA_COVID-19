{
  "nbformat": 4,
  "nbformat_minor": 0,
  "metadata": {
    "colab": {
      "name": "TCC PROTOTIPO.ipynb",
      "provenance": [],
      "toc_visible": true,
      "authorship_tag": "ABX9TyPL4kP2DSeBMdaPN/PeyMVe",
      "include_colab_link": true
    },
    "kernelspec": {
      "name": "python3",
      "display_name": "Python 3"
    },
    "language_info": {
      "name": "python"
    }
  },
  "cells": [
    {
      "cell_type": "markdown",
      "metadata": {
        "id": "view-in-github",
        "colab_type": "text"
      },
      "source": [
        "<a href=\"https://colab.research.google.com/github/ViniciusBortolini/TCC/blob/main/TCC_PROTOTIPO.ipynb\" target=\"_parent\"><img src=\"https://colab.research.google.com/assets/colab-badge.svg\" alt=\"Open In Colab\"/></a>"
      ]
    },
    {
      "cell_type": "markdown",
      "metadata": {
        "id": "LDKzzT_fpggE"
      },
      "source": [
        "# 1 Montando Google Drive"
      ]
    },
    {
      "cell_type": "code",
      "metadata": {
        "colab": {
          "base_uri": "https://localhost:8080/"
        },
        "id": "UV7wJHU-h4jC",
        "outputId": "56c2455b-4db4-4ed7-8951-62caab96a842"
      },
      "source": [
        "from google.colab import drive\n",
        "drive.mount('/content/drive')"
      ],
      "execution_count": 1,
      "outputs": [
        {
          "output_type": "stream",
          "name": "stdout",
          "text": [
            "Mounted at /content/drive\n"
          ]
        }
      ]
    },
    {
      "cell_type": "markdown",
      "metadata": {
        "id": "BmZ3XnIVpjnc"
      },
      "source": [
        "# 2 Importando Dataset"
      ]
    },
    {
      "cell_type": "code",
      "metadata": {
        "id": "e_UMiZKzh7xc"
      },
      "source": [
        "import pandas as pd"
      ],
      "execution_count": 2,
      "outputs": []
    },
    {
      "cell_type": "code",
      "metadata": {
        "id": "oUGvtogwh15i"
      },
      "source": [
        "data2 = pd.read_csv(\"/content/drive/MyDrive/TCC/TESTE/DataSet2/UnificadoDataSet2.csv\", sep=',')\n",
        "data2 = data2[['ID_PACIENTE','DT_COLETA',\n",
        "'PCR em tempo real para detecção de Coron/Resultado COVID-19:',\n",
        "'Hemograma com Plaquetas/CHCM',\n",
        "'Hemograma com Plaquetas/Hematócrito',\n",
        "'Hemograma com Plaquetas/Hemácias',\n",
        "'Hemograma com Plaquetas/Plaquetas',\n",
        "'Hemograma com Plaquetas/VCM',\n",
        "'Hemograma com Plaquetas/HCM',\n",
        "'Hemograma com Plaquetas/Hemoglobina',\n",
        "'Hemograma com Plaquetas/Leucócitos',\n",
        "'Hemograma com Plaquetas/Leucócitos #',\n",
        "'Hemograma com Plaquetas/RDW',\n",
        "'Hemograma com Plaquetas/Volume Médio Plaquetário',\n",
        "'Dosagem de Uréia/Uréia',\n",
        "'Hemograma Contagem Auto/Linfócitos',\n",
        "'Hemograma Contagem Auto/Basófilos',\n",
        "'Hemograma Contagem Auto/Basófilos #', \n",
        "'Hemograma Contagem Auto/Eosinófilos']]\n",
        "dfFinal = data2.copy()\n",
        "\n"
      ],
      "execution_count": 3,
      "outputs": []
    },
    {
      "cell_type": "code",
      "metadata": {
        "colab": {
          "base_uri": "https://localhost:8080/"
        },
        "id": "AtkIkpbEixN4",
        "outputId": "d8e9d1a4-2c7d-4641-c67e-17212df4f41c"
      },
      "source": [
        "dfFinal.set_index(['ID_PACIENTE', 'DT_COLETA'], inplace= True)\n",
        "dfFinal.dropna(inplace= True)\n",
        "dfFinal.shape"
      ],
      "execution_count": 4,
      "outputs": [
        {
          "output_type": "execute_result",
          "data": {
            "text/plain": [
              "(5507, 17)"
            ]
          },
          "metadata": {},
          "execution_count": 4
        }
      ]
    },
    {
      "cell_type": "code",
      "metadata": {
        "id": "1zqrdtmRDLC_"
      },
      "source": [
        "TotalX = dfFinal[['Hemograma com Plaquetas/CHCM',\n",
        "'Hemograma com Plaquetas/Hematócrito',\n",
        "'Hemograma com Plaquetas/Hemácias',\n",
        "'Hemograma com Plaquetas/Plaquetas',\n",
        "'Hemograma com Plaquetas/VCM',\n",
        "'Hemograma com Plaquetas/HCM',\n",
        "'Hemograma com Plaquetas/Hemoglobina',\n",
        "'Hemograma com Plaquetas/Leucócitos',\n",
        "'Hemograma com Plaquetas/Leucócitos #',\n",
        "'Hemograma com Plaquetas/RDW',\n",
        "'Hemograma com Plaquetas/Volume Médio Plaquetário',\n",
        "'Dosagem de Uréia/Uréia',\n",
        "'Hemograma Contagem Auto/Linfócitos',\n",
        "'Hemograma Contagem Auto/Basófilos',\n",
        "'Hemograma Contagem Auto/Basófilos #', \n",
        "'Hemograma Contagem Auto/Eosinófilos'\n",
        "]].values \n",
        "TotalY = dfFinal['PCR em tempo real para detecção de Coron/Resultado COVID-19:'].values\n"
      ],
      "execution_count": 5,
      "outputs": []
    },
    {
      "cell_type": "markdown",
      "metadata": {
        "id": "WBqeY7z3LRBr"
      },
      "source": [
        "#3 Aplicando Undersampling"
      ]
    },
    {
      "cell_type": "code",
      "metadata": {
        "colab": {
          "base_uri": "https://localhost:8080/"
        },
        "id": "xMHVZ7LXbINf",
        "outputId": "6e59928b-f1ba-48b8-da27-ea51a657115a"
      },
      "source": [
        "from imblearn.over_sampling import SMOTE\n",
        "from imblearn.under_sampling import RandomUnderSampler \n",
        "from collections import Counter\n",
        "import numpy as np\n",
        "\n",
        "\n",
        "#smt = SMOTE(k_neighbors=5, random_state=42)\n",
        "smt = RandomUnderSampler(sampling_strategy='auto')\n",
        "Xtreino, ytreino = smt.fit_sample(TotalX, TotalY)\n",
        "\n",
        "Counter(ytreino)\n"
      ],
      "execution_count": 6,
      "outputs": [
        {
          "output_type": "stream",
          "name": "stderr",
          "text": [
            "/usr/local/lib/python3.7/dist-packages/sklearn/externals/six.py:31: FutureWarning: The module is deprecated in version 0.21 and will be removed in version 0.23 since we've dropped support for Python 2.7. Please rely on the official version of six (https://pypi.org/project/six/).\n",
            "  \"(https://pypi.org/project/six/).\", FutureWarning)\n",
            "/usr/local/lib/python3.7/dist-packages/sklearn/utils/deprecation.py:144: FutureWarning: The sklearn.neighbors.base module is  deprecated in version 0.22 and will be removed in version 0.24. The corresponding classes / functions should instead be imported from sklearn.neighbors. Anything that cannot be imported from sklearn.neighbors is now part of the private API.\n",
            "  warnings.warn(message, FutureWarning)\n",
            "/usr/local/lib/python3.7/dist-packages/sklearn/utils/deprecation.py:87: FutureWarning: Function safe_indexing is deprecated; safe_indexing is deprecated in version 0.22 and will be removed in version 0.24.\n",
            "  warnings.warn(msg, category=FutureWarning)\n"
          ]
        },
        {
          "output_type": "execute_result",
          "data": {
            "text/plain": [
              "Counter({0.0: 1558, 1.0: 1558})"
            ]
          },
          "metadata": {},
          "execution_count": 6
        }
      ]
    },
    {
      "cell_type": "markdown",
      "metadata": {
        "id": "HEs4KsfmDUuU"
      },
      "source": [
        "# 4 Montando o Dataset após o Undersampling"
      ]
    },
    {
      "cell_type": "code",
      "metadata": {
        "colab": {
          "base_uri": "https://localhost:8080/",
          "height": 288
        },
        "id": "LWgxNTNEDQdq",
        "outputId": "b4756f4b-7d28-4c39-da63-346a9c68a3eb"
      },
      "source": [
        "df_smote = pd.DataFrame(Xtreino)\n",
        "\n",
        "df_smote = df_smote.rename(columns ={\n",
        "0:'Hemograma com Plaquetas/CHCM',\n",
        "1:'Hemograma com Plaquetas/Hematócrito',\n",
        "2:'Hemograma com Plaquetas/Hemácias',\n",
        "3:'Hemograma com Plaquetas/Plaquetas',\n",
        "4:'Hemograma com Plaquetas/VCM',\n",
        "5:'Hemograma com Plaquetas/HCM',\n",
        "6:'Hemograma com Plaquetas/Hemoglobina',\n",
        "7:'Hemograma com Plaquetas/Leucócitos',\n",
        "8:'Hemograma com Plaquetas/Leucócitos #',\n",
        "9:'Hemograma com Plaquetas/RDW',\n",
        "10:'Hemograma com Plaquetas/Volume Médio Plaquetário',\n",
        "11:'Dosagem de Uréia/Uréia',\n",
        "12:'Hemograma Contagem Auto/Linfócitos',\n",
        "13:'Hemograma Contagem Auto/Basófilos',\n",
        "14:'Hemograma Contagem Auto/Basófilos #' ,\n",
        "15:'Hemograma Contagem Auto/Eosinófilos'\n",
        "})\n",
        "\n",
        "df_smote = df_smote.assign(PCR =  pd.DataFrame(ytreino))\n",
        "df_smote = df_smote.rename(columns ={\n",
        "'PCR':'PCR em tempo real para detecção de Coron/Resultado COVID-19:'})\n",
        "df_smote.head()"
      ],
      "execution_count": 7,
      "outputs": [
        {
          "output_type": "execute_result",
          "data": {
            "text/html": [
              "<div>\n",
              "<style scoped>\n",
              "    .dataframe tbody tr th:only-of-type {\n",
              "        vertical-align: middle;\n",
              "    }\n",
              "\n",
              "    .dataframe tbody tr th {\n",
              "        vertical-align: top;\n",
              "    }\n",
              "\n",
              "    .dataframe thead th {\n",
              "        text-align: right;\n",
              "    }\n",
              "</style>\n",
              "<table border=\"1\" class=\"dataframe\">\n",
              "  <thead>\n",
              "    <tr style=\"text-align: right;\">\n",
              "      <th></th>\n",
              "      <th>Hemograma com Plaquetas/CHCM</th>\n",
              "      <th>Hemograma com Plaquetas/Hematócrito</th>\n",
              "      <th>Hemograma com Plaquetas/Hemácias</th>\n",
              "      <th>Hemograma com Plaquetas/Plaquetas</th>\n",
              "      <th>Hemograma com Plaquetas/VCM</th>\n",
              "      <th>Hemograma com Plaquetas/HCM</th>\n",
              "      <th>Hemograma com Plaquetas/Hemoglobina</th>\n",
              "      <th>Hemograma com Plaquetas/Leucócitos</th>\n",
              "      <th>Hemograma com Plaquetas/Leucócitos #</th>\n",
              "      <th>Hemograma com Plaquetas/RDW</th>\n",
              "      <th>Hemograma com Plaquetas/Volume Médio Plaquetário</th>\n",
              "      <th>Dosagem de Uréia/Uréia</th>\n",
              "      <th>Hemograma Contagem Auto/Linfócitos</th>\n",
              "      <th>Hemograma Contagem Auto/Basófilos</th>\n",
              "      <th>Hemograma Contagem Auto/Basófilos #</th>\n",
              "      <th>Hemograma Contagem Auto/Eosinófilos</th>\n",
              "      <th>PCR em tempo real para detecção de Coron/Resultado COVID-19:</th>\n",
              "    </tr>\n",
              "  </thead>\n",
              "  <tbody>\n",
              "    <tr>\n",
              "      <th>0</th>\n",
              "      <td>33.799999</td>\n",
              "      <td>49.700001</td>\n",
              "      <td>6.09</td>\n",
              "      <td>347.0</td>\n",
              "      <td>81.599998</td>\n",
              "      <td>27.600000</td>\n",
              "      <td>16.799999</td>\n",
              "      <td>11.32</td>\n",
              "      <td>11320.0</td>\n",
              "      <td>12.9</td>\n",
              "      <td>9.4</td>\n",
              "      <td>35.0</td>\n",
              "      <td>13.700000</td>\n",
              "      <td>0.3</td>\n",
              "      <td>34.0</td>\n",
              "      <td>6.3</td>\n",
              "      <td>0.0</td>\n",
              "    </tr>\n",
              "    <tr>\n",
              "      <th>1</th>\n",
              "      <td>33.400002</td>\n",
              "      <td>46.099998</td>\n",
              "      <td>5.24</td>\n",
              "      <td>192.0</td>\n",
              "      <td>88.000000</td>\n",
              "      <td>29.400000</td>\n",
              "      <td>15.400000</td>\n",
              "      <td>7.86</td>\n",
              "      <td>7860.0</td>\n",
              "      <td>13.8</td>\n",
              "      <td>10.2</td>\n",
              "      <td>56.0</td>\n",
              "      <td>23.299999</td>\n",
              "      <td>0.5</td>\n",
              "      <td>39.0</td>\n",
              "      <td>4.3</td>\n",
              "      <td>0.0</td>\n",
              "    </tr>\n",
              "    <tr>\n",
              "      <th>2</th>\n",
              "      <td>32.599998</td>\n",
              "      <td>35.599998</td>\n",
              "      <td>4.03</td>\n",
              "      <td>265.0</td>\n",
              "      <td>88.300003</td>\n",
              "      <td>28.799999</td>\n",
              "      <td>11.600000</td>\n",
              "      <td>4.73</td>\n",
              "      <td>4730.0</td>\n",
              "      <td>12.5</td>\n",
              "      <td>10.2</td>\n",
              "      <td>20.0</td>\n",
              "      <td>40.599998</td>\n",
              "      <td>0.4</td>\n",
              "      <td>19.0</td>\n",
              "      <td>1.5</td>\n",
              "      <td>0.0</td>\n",
              "    </tr>\n",
              "    <tr>\n",
              "      <th>3</th>\n",
              "      <td>34.799999</td>\n",
              "      <td>44.599998</td>\n",
              "      <td>4.82</td>\n",
              "      <td>186.0</td>\n",
              "      <td>92.500000</td>\n",
              "      <td>32.200001</td>\n",
              "      <td>15.500000</td>\n",
              "      <td>8.08</td>\n",
              "      <td>8080.0</td>\n",
              "      <td>13.1</td>\n",
              "      <td>10.3</td>\n",
              "      <td>30.0</td>\n",
              "      <td>17.799999</td>\n",
              "      <td>0.1</td>\n",
              "      <td>8.0</td>\n",
              "      <td>1.0</td>\n",
              "      <td>0.0</td>\n",
              "    </tr>\n",
              "    <tr>\n",
              "      <th>4</th>\n",
              "      <td>34.900002</td>\n",
              "      <td>43.299999</td>\n",
              "      <td>4.81</td>\n",
              "      <td>269.0</td>\n",
              "      <td>90.000000</td>\n",
              "      <td>31.400000</td>\n",
              "      <td>15.100000</td>\n",
              "      <td>6.23</td>\n",
              "      <td>6230.0</td>\n",
              "      <td>12.0</td>\n",
              "      <td>12.0</td>\n",
              "      <td>34.0</td>\n",
              "      <td>30.700001</td>\n",
              "      <td>0.8</td>\n",
              "      <td>50.0</td>\n",
              "      <td>3.4</td>\n",
              "      <td>0.0</td>\n",
              "    </tr>\n",
              "  </tbody>\n",
              "</table>\n",
              "</div>"
            ],
            "text/plain": [
              "   Hemograma com Plaquetas/CHCM  ...  PCR em tempo real para detecção de Coron/Resultado COVID-19:\n",
              "0                     33.799999  ...                                                0.0           \n",
              "1                     33.400002  ...                                                0.0           \n",
              "2                     32.599998  ...                                                0.0           \n",
              "3                     34.799999  ...                                                0.0           \n",
              "4                     34.900002  ...                                                0.0           \n",
              "\n",
              "[5 rows x 17 columns]"
            ]
          },
          "metadata": {},
          "execution_count": 7
        }
      ]
    },
    {
      "cell_type": "code",
      "metadata": {
        "colab": {
          "base_uri": "https://localhost:8080/"
        },
        "id": "TsbcUnQHDnAM",
        "outputId": "fb29509f-2b99-4bd1-e68b-ceb6e6370e31"
      },
      "source": [
        "df_smote.shape\n"
      ],
      "execution_count": 8,
      "outputs": [
        {
          "output_type": "execute_result",
          "data": {
            "text/plain": [
              "(3116, 17)"
            ]
          },
          "metadata": {},
          "execution_count": 8
        }
      ]
    },
    {
      "cell_type": "code",
      "metadata": {
        "id": "v5Yeo9ojDvjB"
      },
      "source": [
        "dfFinal2 = dfFinal.copy()\n",
        "dfFinal2 = dfFinal2[[\n",
        "'PCR em tempo real para detecção de Coron/Resultado COVID-19:',\n",
        "'Hemograma com Plaquetas/CHCM',\n",
        "'Hemograma com Plaquetas/Hematócrito',\n",
        "'Hemograma com Plaquetas/Hemácias',\n",
        "'Hemograma com Plaquetas/Plaquetas',\n",
        "'Hemograma com Plaquetas/VCM',\n",
        "'Hemograma com Plaquetas/HCM',\n",
        "'Hemograma com Plaquetas/Hemoglobina',\n",
        "'Hemograma com Plaquetas/Leucócitos',\n",
        "'Hemograma com Plaquetas/Leucócitos #',\n",
        "'Hemograma com Plaquetas/RDW',\n",
        "'Hemograma com Plaquetas/Volume Médio Plaquetário',\n",
        "'Dosagem de Uréia/Uréia',\n",
        "'Hemograma Contagem Auto/Linfócitos',\n",
        "'Hemograma Contagem Auto/Basófilos',\n",
        "'Hemograma Contagem Auto/Basófilos #', \n",
        "'Hemograma Contagem Auto/Eosinófilos']]\n",
        "dfFinal = dfFinal2.copy()\n",
        "\n",
        "dfFinal2 = dfFinal.copy()\n",
        "dfFinal2 = dfFinal2[[\n",
        "'PCR em tempo real para detecção de Coron/Resultado COVID-19:'\n",
        "]]\n",
        "yy = dfFinal2.copy()\n",
        "\n",
        "dfFinal2 = dfFinal.copy()\n",
        "dfFinal2 = dfFinal2[[\n",
        "#'PCR em tempo real para detecção de Coron/Resultado COVID-19:',\n",
        "'Hemograma com Plaquetas/CHCM',\n",
        "'Hemograma com Plaquetas/Hematócrito',\n",
        "'Hemograma com Plaquetas/Hemácias',\n",
        "'Hemograma com Plaquetas/Plaquetas',\n",
        "'Hemograma com Plaquetas/VCM',\n",
        "'Hemograma com Plaquetas/HCM',\n",
        "'Hemograma com Plaquetas/Hemoglobina',\n",
        "'Hemograma com Plaquetas/Leucócitos',\n",
        "'Hemograma com Plaquetas/Leucócitos #',\n",
        "'Hemograma com Plaquetas/RDW',\n",
        "'Hemograma com Plaquetas/Volume Médio Plaquetário',\n",
        "'Dosagem de Uréia/Uréia',\n",
        "'Hemograma Contagem Auto/Linfócitos',\n",
        "'Hemograma Contagem Auto/Basófilos',\n",
        "'Hemograma Contagem Auto/Basófilos #', \n",
        "'Hemograma Contagem Auto/Eosinófilos']]\n",
        "dfFinal = dfFinal2.copy()"
      ],
      "execution_count": 9,
      "outputs": []
    },
    {
      "cell_type": "code",
      "metadata": {
        "colab": {
          "base_uri": "https://localhost:8080/"
        },
        "id": "bWKeGzAGD0jy",
        "outputId": "2f2cefea-fc1c-4430-e338-fa85414024d9"
      },
      "source": [
        "from sklearn.ensemble import RandomForestClassifier\n",
        "from sklearn.neighbors import KNeighborsClassifier\n",
        "from sklearn.metrics import confusion_matrix\n",
        "from sklearn.metrics import classification_report\n",
        "from sklearn.metrics import recall_score\n",
        "from sklearn.metrics import accuracy_score\n",
        "from sklearn.metrics import roc_auc_score # curva de probabilidade que traça o verdadeiro positivo contra o FPR\n",
        "from sklearn.model_selection import train_test_split\n",
        "#quanto mais alto o roc melhor é\n",
        "from scipy.stats import ks_2samp\n",
        "\n",
        "def treino_resultado(model):\n",
        "    model.fit(Xtreino, ytreino)  \n",
        "    y_pred = model.predict(dfFinal)\n",
        "    #Matriz Confusão e Métricas de Classificacao\n",
        "    print(\"Matriz Confusão: \\n\", confusion_matrix(yy, y_pred))  \n",
        "    print(\"Métricas de Classficação: \\n\", classification_report(yy, y_pred))  \n",
        "    print(\"Acurácia: \", accuracy_score(yy, y_pred))   \n",
        "    print(\"Revocação:\", recall_score(yy, y_pred))\n",
        "    #AUC e KS\n",
        "    print(\"AUC: \", roc_auc_score(yy, y_pred))\n",
        "    #print(\"KS: \", ks_2samp(y_pred[yy == 0], y_pred[yy == 1]).statistic)\n",
        "    \n",
        "X = df_smote[['Hemograma com Plaquetas/CHCM',\n",
        "'Hemograma com Plaquetas/Hematócrito',\n",
        "'Hemograma com Plaquetas/Hemácias',\n",
        "'Hemograma com Plaquetas/Plaquetas',\n",
        "'Hemograma com Plaquetas/VCM',\n",
        "'Hemograma com Plaquetas/HCM',\n",
        "'Hemograma com Plaquetas/Hemoglobina',\n",
        "'Hemograma com Plaquetas/Leucócitos',\n",
        "'Hemograma com Plaquetas/Leucócitos #',\n",
        "'Hemograma com Plaquetas/RDW',\n",
        "'Hemograma com Plaquetas/Volume Médio Plaquetário',\n",
        "'Dosagem de Uréia/Uréia',\n",
        "'Hemograma Contagem Auto/Linfócitos',\n",
        "'Hemograma Contagem Auto/Basófilos',\n",
        "'Hemograma Contagem Auto/Basófilos #', \n",
        "'Hemograma Contagem Auto/Eosinófilos'\n",
        "]].values \n",
        "y = df_smote['PCR em tempo real para detecção de Coron/Resultado COVID-19:'].values\n",
        "Xtreino, Xteste, ytreino, yteste = train_test_split(X, y, stratify=y, test_size=0.3, random_state=42)\n",
        "print(\"Split between test and train!\")\n",
        "\n",
        "#Aplicando KNN\n",
        "#k = 73\n",
        "#knn = KNeighborsClassifier(n_neighbors=k)\n",
        "#treino_resultado(knn)\n",
        "\n",
        "rf = RandomForestClassifier(n_estimators=100, max_features='auto', random_state=42)  \n",
        "\n",
        "\n",
        "treino_resultado(rf)"
      ],
      "execution_count": 10,
      "outputs": [
        {
          "output_type": "stream",
          "name": "stdout",
          "text": [
            "Split between test and train!\n",
            "Matriz Confusão: \n",
            " [[3280  669]\n",
            " [ 121 1437]]\n",
            "Métricas de Classficação: \n",
            "               precision    recall  f1-score   support\n",
            "\n",
            "         0.0       0.96      0.83      0.89      3949\n",
            "         1.0       0.68      0.92      0.78      1558\n",
            "\n",
            "    accuracy                           0.86      5507\n",
            "   macro avg       0.82      0.88      0.84      5507\n",
            "weighted avg       0.88      0.86      0.86      5507\n",
            "\n",
            "Acurácia:  0.8565462139095696\n",
            "Revocação: 0.9223363286264442\n",
            "AUC:  0.8764631757085122\n"
          ]
        }
      ]
    },
    {
      "cell_type": "code",
      "metadata": {
        "colab": {
          "base_uri": "https://localhost:8080/",
          "height": 296
        },
        "id": "-_Clo0ZZiq4u",
        "outputId": "abb30ac3-f49b-46bc-b146-8d39c5cb9a18"
      },
      "source": [
        "#NAO PRECISA MAIS EXECUTAR\n",
        "from sklearn.metrics import plot_confusion_matrix\n",
        "\n",
        "plot_confusion_matrix(rf, X, y, values_format=\"d\")"
      ],
      "execution_count": 25,
      "outputs": [
        {
          "output_type": "execute_result",
          "data": {
            "text/plain": [
              "<sklearn.metrics._plot.confusion_matrix.ConfusionMatrixDisplay at 0x7f04cfa298d0>"
            ]
          },
          "metadata": {},
          "execution_count": 25
        },
        {
          "output_type": "display_data",
          "data": {
            "image/png": "[encoded data removed]",
            "text/plain": [
              "<Figure size 432x288 with 2 Axes>"
            ]
          },
          "metadata": {
            "needs_background": "light"
          }
        }
      ]
    },
    {
      "cell_type": "markdown",
      "metadata": {
        "id": "MF3uHpI4Kngy"
      },
      "source": [
        "'Hemograma com Plaquetas/CHCM',\n",
        "'Hemograma com Plaquetas/Hematócrito',\n",
        "'Hemograma com Plaquetas/Hemácias',\n",
        "'Hemograma com Plaquetas/Plaquetas',\n",
        "'Hemograma com Plaquetas/VCM',\n",
        "'Hemograma com Plaquetas/HCM',\n",
        "'Hemograma com Plaquetas/Hemoglobina',\n",
        "'Hemograma com Plaquetas/Leucócitos',\n",
        "'Hemograma com Plaquetas/Leucócitos #',\n",
        "'Hemograma com Plaquetas/RDW',\n",
        "'Hemograma com Plaquetas/Volume Médio Plaquetário',\n",
        "'Dosagem de Uréia/Uréia',\n",
        "'Hemograma Contagem Auto/Linfócitos',\n",
        "'Hemograma Contagem Auto/Basófilos',\n",
        "'Hemograma Contagem Auto/Basófilos #', \n",
        "'Hemograma Contagem Auto/Eosinófilos'"
      ]
    },
    {
      "cell_type": "code",
      "metadata": {
        "colab": {
          "base_uri": "https://localhost:8080/",
          "height": 1000
        },
        "id": "2x8r3MjEKYJF",
        "outputId": "2eb404a5-55ab-475b-84ed-b8e52d318650"
      },
      "source": [
        "import seaborn as sns\n",
        "import matplotlib.pyplot as plt\n",
        "\n",
        "for coluna in dfFinal.columns:\n",
        "    plt.figure()\n",
        "    sns.boxplot(data=dfFinal, x=coluna)\n",
        "\n",
        "#sns.boxplot(data=dfFinal[\"Hemograma com Plaquetas/Hemácias\"]) #4 a 6\n",
        "#sns.boxplot(data=dfFinal[\"Hemograma com Plaquetas/CHCM\"])\n",
        "#sns.boxplot(data=dfFinal[\"Hemograma com Plaquetas/Hematócrito\"])\n",
        "#sns.boxplot(data=dfFinal[\"Hemograma com Plaquetas/Hemácias\"])\n",
        "#sns.boxplot(data=dfFinal[\"Hemograma com Plaquetas/Plaquetas\"])\n",
        "#sns.boxplot(data=dfFinal[\"Hemograma com Plaquetas/VCM\"])\n",
        "#sns.boxplot(data=dfFinal[\"Hemograma com Plaquetas/HCM\"])\n",
        "#sns.boxplot(data=dfFinal[\"Hemograma com Plaquetas/Hemoglobina\"])\n",
        "#sns.boxplot(data=dfFinal[\"Hemograma com Plaquetas/Leucócitos\"])\n",
        "#sns.boxplot(data=dfFinal[\"Hemograma com Plaquetas/Leucócitos #\"])\n",
        "#sns.boxplot(data=dfFinal[\"Hemograma com Plaquetas/RDW\"])\n",
        "#sns.boxplot(data=dfFinal[\"Hemograma com Plaquetas/Volume Médio Plaquetário\"])\n",
        "#sns.boxplot(data=dfFinal[\"Dosagem de Uréia/Uréia\"])\n",
        "#sns.boxplot(data=dfFinal[\"Hemograma Contagem Auto/Linfócitos\"])\n",
        "#sns.boxplot(data=dfFinal[\"Hemograma Contagem Auto/Basófilos\"])\n",
        "sns.boxplot(data=dfFinal[\"Hemograma Contagem Auto/Basófilos #\"])\n",
        "#sns.boxplot(data=dfFinal[\"Hemograma Contagem Auto/Eosinófilos\"]) #0,1 a 7"
      ],
      "execution_count": 11,
      "outputs": [
        {
          "output_type": "execute_result",
          "data": {
            "text/plain": [
              "<matplotlib.axes._subplots.AxesSubplot at 0x7f04d8e44e10>"
            ]
          },
          "metadata": {},
          "execution_count": 11
        },
        {
          "output_type": "display_data",
          "data": {
            "image/png": "[encoded data removed]",
            "text/plain": [
              "<Figure size 432x288 with 1 Axes>"
            ]
          },
          "metadata": {
            "needs_background": "light"
          }
        },
        {
          "output_type": "display_data",
          "data": {
            "image/png": "[encoded data removed]",
            "text/plain": [
              "<Figure size 432x288 with 1 Axes>"
            ]
          },
          "metadata": {
            "needs_background": "light"
          }
        },
        {
          "output_type": "display_data",
          "data": {
            "image/png": "[encoded data removed]",
            "text/plain": [
              "<Figure size 432x288 with 1 Axes>"
            ]
          },
          "metadata": {
            "needs_background": "light"
          }
        },
        {
          "output_type": "display_data",
          "data": {
            "image/png": "[encoded data removed]",
            "text/plain": [
              "<Figure size 432x288 with 1 Axes>"
            ]
          },
          "metadata": {
            "needs_background": "light"
          }
        },
        {
          "output_type": "display_data",
          "data": {
            "image/png": "[encoded data removed]",
            "text/plain": [
              "<Figure size 432x288 with 1 Axes>"
            ]
          },
          "metadata": {
            "needs_background": "light"
          }
        },
        {
          "output_type": "display_data",
          "data": {
            "image/png": "[encoded data removed]",
            "text/plain": [
              "<Figure size 432x288 with 1 Axes>"
            ]
          },
          "metadata": {
            "needs_background": "light"
          }
        },
        {
          "output_type": "display_data",
          "data": {
            "image/png": "[encoded data removed]",
            "text/plain": [
              "<Figure size 432x288 with 1 Axes>"
            ]
          },
          "metadata": {
            "needs_background": "light"
          }
        },
        {
          "output_type": "display_data",
          "data": {
            "image/png": "[encoded data removed]",
            "text/plain": [
              "<Figure size 432x288 with 1 Axes>"
            ]
          },
          "metadata": {
            "needs_background": "light"
          }
        },
        {
          "output_type": "display_data",
          "data": {
            "image/png": "[encoded data removed]",
            "text/plain": [
              "<Figure size 432x288 with 1 Axes>"
            ]
          },
          "metadata": {
            "needs_background": "light"
          }
        },
        {
          "output_type": "display_data",
          "data": {
            "image/png": "[encoded data removed]",
            "text/plain": [
              "<Figure size 432x288 with 1 Axes>"
            ]
          },
          "metadata": {
            "needs_background": "light"
          }
        },
        {
          "output_type": "display_data",
          "data": {
            "image/png": "[encoded data removed]",
            "text/plain": [
              "<Figure size 432x288 with 1 Axes>"
            ]
          },
          "metadata": {
            "needs_background": "light"
          }
        },
        {
          "output_type": "display_data",
          "data": {
            "image/png": "[encoded data removed]",
            "text/plain": [
              "<Figure size 432x288 with 1 Axes>"
            ]
          },
          "metadata": {
            "needs_background": "light"
          }
        },
        {
          "output_type": "display_data",
          "data": {
            "image/png": "[encoded data removed]",
            "text/plain": [
              "<Figure size 432x288 with 1 Axes>"
            ]
          },
          "metadata": {
            "needs_background": "light"
          }
        },
        {
          "output_type": "display_data",
          "data": {
            "image/png": "[encoded data removed]",
            "text/plain": [
              "<Figure size 432x288 with 1 Axes>"
            ]
          },
          "metadata": {
            "needs_background": "light"
          }
        },
        {
          "output_type": "display_data",
          "data": {
            "image/png": "[encoded data removed]",
            "text/plain": [
              "<Figure size 432x288 with 1 Axes>"
            ]
          },
          "metadata": {
            "needs_background": "light"
          }
        },
        {
          "output_type": "display_data",
          "data": {
            "image/png": "[encoded data removed]",
            "text/plain": [
              "<Figure size 432x288 with 1 Axes>"
            ]
          },
          "metadata": {
            "needs_background": "light"
          }
        }
      ]
    },
    {
      "cell_type": "markdown",
      "metadata": {
        "id": "kmhJoyJvjZG8"
      },
      "source": [
        "# 5 Importar pickle, ele é o responsável por salvar o modelo"
      ]
    },
    {
      "cell_type": "code",
      "metadata": {
        "id": "9g601HFJfTzn"
      },
      "source": [
        "import pickle"
      ],
      "execution_count": 12,
      "outputs": []
    },
    {
      "cell_type": "code",
      "metadata": {
        "colab": {
          "base_uri": "https://localhost:8080/",
          "height": 1000
        },
        "id": "BOabXoBDdPG7",
        "outputId": "318607d9-95bc-4143-95b7-b3c1e83e159d"
      },
      "source": [
        "!pip install ipykernel>=5.1.2\n",
        "!pip install pydeck"
      ],
      "execution_count": 2,
      "outputs": [
        {
          "output_type": "stream",
          "name": "stdout",
          "text": [
            "Collecting pydeck\n",
            "  Downloading pydeck-0.7.0-py2.py3-none-any.whl (4.3 MB)\n",
            "\u001b[K     |████████████████████████████████| 4.3 MB 4.2 MB/s \n",
            "\u001b[?25hRequirement already satisfied: numpy>=1.16.4 in /usr/local/lib/python3.7/dist-packages (from pydeck) (1.19.5)\n",
            "Requirement already satisfied: ipywidgets>=7.0.0 in /usr/local/lib/python3.7/dist-packages (from pydeck) (7.6.5)\n",
            "Requirement already satisfied: jinja2>=2.10.1 in /usr/local/lib/python3.7/dist-packages (from pydeck) (2.11.3)\n",
            "Collecting ipykernel>=5.1.2\n",
            "  Downloading ipykernel-6.4.1-py3-none-any.whl (124 kB)\n",
            "\u001b[K     |████████████████████████████████| 124 kB 51.5 MB/s \n",
            "\u001b[?25hRequirement already satisfied: traitlets>=4.3.2 in /usr/local/lib/python3.7/dist-packages (from pydeck) (5.1.0)\n",
            "Requirement already satisfied: importlib-metadata<5 in /usr/local/lib/python3.7/dist-packages (from ipykernel>=5.1.2->pydeck) (4.8.1)\n",
            "Requirement already satisfied: jupyter-client<8.0 in /usr/local/lib/python3.7/dist-packages (from ipykernel>=5.1.2->pydeck) (5.3.5)\n",
            "Requirement already satisfied: debugpy<2.0,>=1.0.0 in /usr/local/lib/python3.7/dist-packages (from ipykernel>=5.1.2->pydeck) (1.0.0)\n",
            "Requirement already satisfied: tornado<7.0,>=4.2 in /usr/local/lib/python3.7/dist-packages (from ipykernel>=5.1.2->pydeck) (5.1.1)\n",
            "Requirement already satisfied: argcomplete>=1.12.3 in /usr/local/lib/python3.7/dist-packages (from ipykernel>=5.1.2->pydeck) (1.12.3)\n",
            "Collecting ipython<8.0,>=7.23.1\n",
            "  Downloading ipython-7.28.0-py3-none-any.whl (788 kB)\n",
            "\u001b[K     |████████████████████████████████| 788 kB 50.6 MB/s \n",
            "\u001b[?25hRequirement already satisfied: matplotlib-inline<0.2.0,>=0.1.0 in /usr/local/lib/python3.7/dist-packages (from ipykernel>=5.1.2->pydeck) (0.1.3)\n",
            "Requirement already satisfied: ipython-genutils in /usr/local/lib/python3.7/dist-packages (from ipykernel>=5.1.2->pydeck) (0.2.0)\n",
            "Requirement already satisfied: zipp>=0.5 in /usr/local/lib/python3.7/dist-packages (from importlib-metadata<5->ipykernel>=5.1.2->pydeck) (3.6.0)\n",
            "Requirement already satisfied: typing-extensions>=3.6.4 in /usr/local/lib/python3.7/dist-packages (from importlib-metadata<5->ipykernel>=5.1.2->pydeck) (3.7.4.3)\n",
            "Requirement already satisfied: setuptools>=18.5 in /usr/local/lib/python3.7/dist-packages (from ipython<8.0,>=7.23.1->ipykernel>=5.1.2->pydeck) (57.4.0)\n",
            "Requirement already satisfied: backcall in /usr/local/lib/python3.7/dist-packages (from ipython<8.0,>=7.23.1->ipykernel>=5.1.2->pydeck) (0.2.0)\n",
            "Requirement already satisfied: pexpect>4.3 in /usr/local/lib/python3.7/dist-packages (from ipython<8.0,>=7.23.1->ipykernel>=5.1.2->pydeck) (4.8.0)\n",
            "Requirement already satisfied: pygments in /usr/local/lib/python3.7/dist-packages (from ipython<8.0,>=7.23.1->ipykernel>=5.1.2->pydeck) (2.6.1)\n",
            "Requirement already satisfied: decorator in /usr/local/lib/python3.7/dist-packages (from ipython<8.0,>=7.23.1->ipykernel>=5.1.2->pydeck) (4.4.2)\n",
            "Requirement already satisfied: jedi>=0.16 in /usr/local/lib/python3.7/dist-packages (from ipython<8.0,>=7.23.1->ipykernel>=5.1.2->pydeck) (0.18.0)\n",
            "Collecting prompt-toolkit!=3.0.0,!=3.0.1,<3.1.0,>=2.0.0\n",
            "  Downloading prompt_toolkit-3.0.20-py3-none-any.whl (370 kB)\n",
            "\u001b[K     |████████████████████████████████| 370 kB 47.8 MB/s \n",
            "\u001b[?25hRequirement already satisfied: pickleshare in /usr/local/lib/python3.7/dist-packages (from ipython<8.0,>=7.23.1->ipykernel>=5.1.2->pydeck) (0.7.5)\n",
            "Requirement already satisfied: jupyterlab-widgets>=1.0.0 in /usr/local/lib/python3.7/dist-packages (from ipywidgets>=7.0.0->pydeck) (1.0.2)\n",
            "Requirement already satisfied: widgetsnbextension~=3.5.0 in /usr/local/lib/python3.7/dist-packages (from ipywidgets>=7.0.0->pydeck) (3.5.1)\n",
            "Requirement already satisfied: nbformat>=4.2.0 in /usr/local/lib/python3.7/dist-packages (from ipywidgets>=7.0.0->pydeck) (5.1.3)\n",
            "Requirement already satisfied: parso<0.9.0,>=0.8.0 in /usr/local/lib/python3.7/dist-packages (from jedi>=0.16->ipython<8.0,>=7.23.1->ipykernel>=5.1.2->pydeck) (0.8.2)\n",
            "Requirement already satisfied: MarkupSafe>=0.23 in /usr/local/lib/python3.7/dist-packages (from jinja2>=2.10.1->pydeck) (2.0.1)\n",
            "Requirement already satisfied: pyzmq>=13 in /usr/local/lib/python3.7/dist-packages (from jupyter-client<8.0->ipykernel>=5.1.2->pydeck) (22.3.0)\n",
            "Requirement already satisfied: python-dateutil>=2.1 in /usr/local/lib/python3.7/dist-packages (from jupyter-client<8.0->ipykernel>=5.1.2->pydeck) (2.8.2)\n",
            "Requirement already satisfied: jupyter-core>=4.6.0 in /usr/local/lib/python3.7/dist-packages (from jupyter-client<8.0->ipykernel>=5.1.2->pydeck) (4.8.1)\n",
            "Requirement already satisfied: jsonschema!=2.5.0,>=2.4 in /usr/local/lib/python3.7/dist-packages (from nbformat>=4.2.0->ipywidgets>=7.0.0->pydeck) (2.6.0)\n",
            "Requirement already satisfied: ptyprocess>=0.5 in /usr/local/lib/python3.7/dist-packages (from pexpect>4.3->ipython<8.0,>=7.23.1->ipykernel>=5.1.2->pydeck) (0.7.0)\n",
            "Requirement already satisfied: wcwidth in /usr/local/lib/python3.7/dist-packages (from prompt-toolkit!=3.0.0,!=3.0.1,<3.1.0,>=2.0.0->ipython<8.0,>=7.23.1->ipykernel>=5.1.2->pydeck) (0.2.5)\n",
            "Requirement already satisfied: six>=1.5 in /usr/local/lib/python3.7/dist-packages (from python-dateutil>=2.1->jupyter-client<8.0->ipykernel>=5.1.2->pydeck) (1.15.0)\n",
            "Requirement already satisfied: notebook>=4.4.1 in /usr/local/lib/python3.7/dist-packages (from widgetsnbextension~=3.5.0->ipywidgets>=7.0.0->pydeck) (5.3.1)\n",
            "Requirement already satisfied: nbconvert in /usr/local/lib/python3.7/dist-packages (from notebook>=4.4.1->widgetsnbextension~=3.5.0->ipywidgets>=7.0.0->pydeck) (5.6.1)\n",
            "Requirement already satisfied: terminado>=0.8.1 in /usr/local/lib/python3.7/dist-packages (from notebook>=4.4.1->widgetsnbextension~=3.5.0->ipywidgets>=7.0.0->pydeck) (0.12.1)\n",
            "Requirement already satisfied: Send2Trash in /usr/local/lib/python3.7/dist-packages (from notebook>=4.4.1->widgetsnbextension~=3.5.0->ipywidgets>=7.0.0->pydeck) (1.8.0)\n",
            "Requirement already satisfied: entrypoints>=0.2.2 in /usr/local/lib/python3.7/dist-packages (from nbconvert->notebook>=4.4.1->widgetsnbextension~=3.5.0->ipywidgets>=7.0.0->pydeck) (0.3)\n",
            "Requirement already satisfied: testpath in /usr/local/lib/python3.7/dist-packages (from nbconvert->notebook>=4.4.1->widgetsnbextension~=3.5.0->ipywidgets>=7.0.0->pydeck) (0.5.0)\n",
            "Requirement already satisfied: defusedxml in /usr/local/lib/python3.7/dist-packages (from nbconvert->notebook>=4.4.1->widgetsnbextension~=3.5.0->ipywidgets>=7.0.0->pydeck) (0.7.1)\n",
            "Requirement already satisfied: bleach in /usr/local/lib/python3.7/dist-packages (from nbconvert->notebook>=4.4.1->widgetsnbextension~=3.5.0->ipywidgets>=7.0.0->pydeck) (4.1.0)\n",
            "Requirement already satisfied: pandocfilters>=1.4.1 in /usr/local/lib/python3.7/dist-packages (from nbconvert->notebook>=4.4.1->widgetsnbextension~=3.5.0->ipywidgets>=7.0.0->pydeck) (1.5.0)\n",
            "Requirement already satisfied: mistune<2,>=0.8.1 in /usr/local/lib/python3.7/dist-packages (from nbconvert->notebook>=4.4.1->widgetsnbextension~=3.5.0->ipywidgets>=7.0.0->pydeck) (0.8.4)\n",
            "Requirement already satisfied: webencodings in /usr/local/lib/python3.7/dist-packages (from bleach->nbconvert->notebook>=4.4.1->widgetsnbextension~=3.5.0->ipywidgets>=7.0.0->pydeck) (0.5.1)\n",
            "Requirement already satisfied: packaging in /usr/local/lib/python3.7/dist-packages (from bleach->nbconvert->notebook>=4.4.1->widgetsnbextension~=3.5.0->ipywidgets>=7.0.0->pydeck) (21.0)\n",
            "Requirement already satisfied: pyparsing>=2.0.2 in /usr/local/lib/python3.7/dist-packages (from packaging->bleach->nbconvert->notebook>=4.4.1->widgetsnbextension~=3.5.0->ipywidgets>=7.0.0->pydeck) (2.4.7)\n",
            "Installing collected packages: prompt-toolkit, ipython, ipykernel, pydeck\n",
            "  Attempting uninstall: prompt-toolkit\n",
            "    Found existing installation: prompt-toolkit 1.0.18\n",
            "    Uninstalling prompt-toolkit-1.0.18:\n",
            "      Successfully uninstalled prompt-toolkit-1.0.18\n",
            "  Attempting uninstall: ipython\n",
            "    Found existing installation: ipython 5.5.0\n",
            "    Uninstalling ipython-5.5.0:\n",
            "      Successfully uninstalled ipython-5.5.0\n",
            "  Attempting uninstall: ipykernel\n",
            "    Found existing installation: ipykernel 4.10.1\n",
            "    Uninstalling ipykernel-4.10.1:\n",
            "      Successfully uninstalled ipykernel-4.10.1\n",
            "\u001b[31mERROR: pip's dependency resolver does not currently take into account all the packages that are installed. This behaviour is the source of the following dependency conflicts.\n",
            "jupyter-console 5.2.0 requires prompt-toolkit<2.0.0,>=1.0.0, but you have prompt-toolkit 3.0.20 which is incompatible.\n",
            "google-colab 1.0.0 requires ipykernel~=4.10, but you have ipykernel 6.4.1 which is incompatible.\n",
            "google-colab 1.0.0 requires ipython~=5.5.0, but you have ipython 7.28.0 which is incompatible.\u001b[0m\n",
            "Successfully installed ipykernel-6.4.1 ipython-7.28.0 prompt-toolkit-3.0.20 pydeck-0.7.0\n"
          ]
        },
        {
          "output_type": "display_data",
          "data": {
            "application/vnd.colab-display-data+json": {
              "pip_warning": {
                "packages": [
                  "IPython",
                  "ipykernel",
                  "prompt_toolkit"
                ]
              }
            }
          },
          "metadata": {}
        }
      ]
    },
    {
      "cell_type": "markdown",
      "metadata": {
        "id": "OT1wc6uwgW5z"
      },
      "source": [
        "# 6 Instalar Streamlit e PyNgrok"
      ]
    },
    {
      "cell_type": "code",
      "metadata": {
        "colab": {
          "base_uri": "https://localhost:8080/"
        },
        "id": "w4OwZsxYgZIe",
        "outputId": "34c5ca27-4182-41ae-cf73-3fd6115358f1"
      },
      "source": [
        "!pip install streamlit\n",
        "!pip install pyngrok"
      ],
      "execution_count": 13,
      "outputs": [
        {
          "output_type": "stream",
          "name": "stdout",
          "text": [
            "Collecting streamlit\n",
            "  Downloading streamlit-1.0.0-py2.py3-none-any.whl (8.3 MB)\n",
            "\u001b[K     |████████████████████████████████| 8.3 MB 4.2 MB/s \n",
            "\u001b[?25hCollecting gitpython!=3.1.19\n",
            "  Downloading GitPython-3.1.24-py3-none-any.whl (180 kB)\n",
            "\u001b[K     |████████████████████████████████| 180 kB 51.7 MB/s \n",
            "\u001b[?25hRequirement already satisfied: pydeck>=0.1.dev5 in /usr/local/lib/python3.7/dist-packages (from streamlit) (0.7.0)\n",
            "Requirement already satisfied: cachetools>=4.0 in /usr/local/lib/python3.7/dist-packages (from streamlit) (4.2.4)\n",
            "Collecting blinker\n",
            "  Downloading blinker-1.4.tar.gz (111 kB)\n",
            "\u001b[K     |████████████████████████████████| 111 kB 58.5 MB/s \n",
            "\u001b[?25hRequirement already satisfied: python-dateutil in /usr/local/lib/python3.7/dist-packages (from streamlit) (2.8.2)\n",
            "Requirement already satisfied: astor in /usr/local/lib/python3.7/dist-packages (from streamlit) (0.8.1)\n",
            "Requirement already satisfied: requests in /usr/local/lib/python3.7/dist-packages (from streamlit) (2.23.0)\n",
            "Requirement already satisfied: altair>=3.2.0 in /usr/local/lib/python3.7/dist-packages (from streamlit) (4.1.0)\n",
            "Collecting validators\n",
            "  Downloading validators-0.18.2-py3-none-any.whl (19 kB)\n",
            "Collecting watchdog\n",
            "  Downloading watchdog-2.1.6-py3-none-manylinux2014_x86_64.whl (76 kB)\n",
            "\u001b[K     |████████████████████████████████| 76 kB 4.7 MB/s \n",
            "\u001b[?25hRequirement already satisfied: packaging in /usr/local/lib/python3.7/dist-packages (from streamlit) (21.0)\n",
            "Requirement already satisfied: click<8.0,>=7.0 in /usr/local/lib/python3.7/dist-packages (from streamlit) (7.1.2)\n",
            "Requirement already satisfied: protobuf!=3.11,>=3.6.0 in /usr/local/lib/python3.7/dist-packages (from streamlit) (3.17.3)\n",
            "Requirement already satisfied: pyarrow in /usr/local/lib/python3.7/dist-packages (from streamlit) (3.0.0)\n",
            "Requirement already satisfied: tornado>=5.0 in /usr/local/lib/python3.7/dist-packages (from streamlit) (5.1.1)\n",
            "Requirement already satisfied: toml in /usr/local/lib/python3.7/dist-packages (from streamlit) (0.10.2)\n",
            "Requirement already satisfied: pandas>=0.21.0 in /usr/local/lib/python3.7/dist-packages (from streamlit) (1.1.5)\n",
            "Requirement already satisfied: attrs in /usr/local/lib/python3.7/dist-packages (from streamlit) (21.2.0)\n",
            "Collecting base58\n",
            "  Downloading base58-2.1.0-py3-none-any.whl (5.6 kB)\n",
            "Requirement already satisfied: numpy in /usr/local/lib/python3.7/dist-packages (from streamlit) (1.19.5)\n",
            "Requirement already satisfied: pillow>=6.2.0 in /usr/local/lib/python3.7/dist-packages (from streamlit) (7.1.2)\n",
            "Requirement already satisfied: tzlocal in /usr/local/lib/python3.7/dist-packages (from streamlit) (1.5.1)\n",
            "Requirement already satisfied: toolz in /usr/local/lib/python3.7/dist-packages (from altair>=3.2.0->streamlit) (0.11.1)\n",
            "Requirement already satisfied: entrypoints in /usr/local/lib/python3.7/dist-packages (from altair>=3.2.0->streamlit) (0.3)\n",
            "Requirement already satisfied: jinja2 in /usr/local/lib/python3.7/dist-packages (from altair>=3.2.0->streamlit) (2.11.3)\n",
            "Requirement already satisfied: jsonschema in /usr/local/lib/python3.7/dist-packages (from altair>=3.2.0->streamlit) (2.6.0)\n",
            "Collecting gitdb<5,>=4.0.1\n",
            "  Downloading gitdb-4.0.7-py3-none-any.whl (63 kB)\n",
            "\u001b[K     |████████████████████████████████| 63 kB 1.6 MB/s \n",
            "\u001b[?25hRequirement already satisfied: typing-extensions>=3.7.4.3 in /usr/local/lib/python3.7/dist-packages (from gitpython!=3.1.19->streamlit) (3.7.4.3)\n",
            "Collecting smmap<5,>=3.0.1\n",
            "  Downloading smmap-4.0.0-py2.py3-none-any.whl (24 kB)\n",
            "Requirement already satisfied: pytz>=2017.2 in /usr/local/lib/python3.7/dist-packages (from pandas>=0.21.0->streamlit) (2018.9)\n",
            "Requirement already satisfied: six>=1.9 in /usr/local/lib/python3.7/dist-packages (from protobuf!=3.11,>=3.6.0->streamlit) (1.15.0)\n",
            "Requirement already satisfied: ipywidgets>=7.0.0 in /usr/local/lib/python3.7/dist-packages (from pydeck>=0.1.dev5->streamlit) (7.6.5)\n",
            "Requirement already satisfied: traitlets>=4.3.2 in /usr/local/lib/python3.7/dist-packages (from pydeck>=0.1.dev5->streamlit) (5.1.0)\n",
            "Requirement already satisfied: ipykernel>=5.1.2 in /usr/local/lib/python3.7/dist-packages (from pydeck>=0.1.dev5->streamlit) (6.4.1)\n",
            "Requirement already satisfied: debugpy<2.0,>=1.0.0 in /usr/local/lib/python3.7/dist-packages (from ipykernel>=5.1.2->pydeck>=0.1.dev5->streamlit) (1.0.0)\n",
            "Requirement already satisfied: jupyter-client<8.0 in /usr/local/lib/python3.7/dist-packages (from ipykernel>=5.1.2->pydeck>=0.1.dev5->streamlit) (5.3.5)\n",
            "Requirement already satisfied: ipython<8.0,>=7.23.1 in /usr/local/lib/python3.7/dist-packages (from ipykernel>=5.1.2->pydeck>=0.1.dev5->streamlit) (7.28.0)\n",
            "Requirement already satisfied: ipython-genutils in /usr/local/lib/python3.7/dist-packages (from ipykernel>=5.1.2->pydeck>=0.1.dev5->streamlit) (0.2.0)\n",
            "Requirement already satisfied: importlib-metadata<5 in /usr/local/lib/python3.7/dist-packages (from ipykernel>=5.1.2->pydeck>=0.1.dev5->streamlit) (4.8.1)\n",
            "Requirement already satisfied: matplotlib-inline<0.2.0,>=0.1.0 in /usr/local/lib/python3.7/dist-packages (from ipykernel>=5.1.2->pydeck>=0.1.dev5->streamlit) (0.1.3)\n",
            "Requirement already satisfied: argcomplete>=1.12.3 in /usr/local/lib/python3.7/dist-packages (from ipykernel>=5.1.2->pydeck>=0.1.dev5->streamlit) (1.12.3)\n",
            "Requirement already satisfied: zipp>=0.5 in /usr/local/lib/python3.7/dist-packages (from importlib-metadata<5->ipykernel>=5.1.2->pydeck>=0.1.dev5->streamlit) (3.6.0)\n",
            "Requirement already satisfied: backcall in /usr/local/lib/python3.7/dist-packages (from ipython<8.0,>=7.23.1->ipykernel>=5.1.2->pydeck>=0.1.dev5->streamlit) (0.2.0)\n",
            "Requirement already satisfied: prompt-toolkit!=3.0.0,!=3.0.1,<3.1.0,>=2.0.0 in /usr/local/lib/python3.7/dist-packages (from ipython<8.0,>=7.23.1->ipykernel>=5.1.2->pydeck>=0.1.dev5->streamlit) (3.0.20)\n",
            "Requirement already satisfied: setuptools>=18.5 in /usr/local/lib/python3.7/dist-packages (from ipython<8.0,>=7.23.1->ipykernel>=5.1.2->pydeck>=0.1.dev5->streamlit) (57.4.0)\n",
            "Requirement already satisfied: pygments in /usr/local/lib/python3.7/dist-packages (from ipython<8.0,>=7.23.1->ipykernel>=5.1.2->pydeck>=0.1.dev5->streamlit) (2.6.1)\n",
            "Requirement already satisfied: jedi>=0.16 in /usr/local/lib/python3.7/dist-packages (from ipython<8.0,>=7.23.1->ipykernel>=5.1.2->pydeck>=0.1.dev5->streamlit) (0.18.0)\n",
            "Requirement already satisfied: decorator in /usr/local/lib/python3.7/dist-packages (from ipython<8.0,>=7.23.1->ipykernel>=5.1.2->pydeck>=0.1.dev5->streamlit) (4.4.2)\n",
            "Requirement already satisfied: pexpect>4.3 in /usr/local/lib/python3.7/dist-packages (from ipython<8.0,>=7.23.1->ipykernel>=5.1.2->pydeck>=0.1.dev5->streamlit) (4.8.0)\n",
            "Requirement already satisfied: pickleshare in /usr/local/lib/python3.7/dist-packages (from ipython<8.0,>=7.23.1->ipykernel>=5.1.2->pydeck>=0.1.dev5->streamlit) (0.7.5)\n",
            "Requirement already satisfied: jupyterlab-widgets>=1.0.0 in /usr/local/lib/python3.7/dist-packages (from ipywidgets>=7.0.0->pydeck>=0.1.dev5->streamlit) (1.0.2)\n",
            "Requirement already satisfied: nbformat>=4.2.0 in /usr/local/lib/python3.7/dist-packages (from ipywidgets>=7.0.0->pydeck>=0.1.dev5->streamlit) (5.1.3)\n",
            "Requirement already satisfied: widgetsnbextension~=3.5.0 in /usr/local/lib/python3.7/dist-packages (from ipywidgets>=7.0.0->pydeck>=0.1.dev5->streamlit) (3.5.1)\n",
            "Requirement already satisfied: parso<0.9.0,>=0.8.0 in /usr/local/lib/python3.7/dist-packages (from jedi>=0.16->ipython<8.0,>=7.23.1->ipykernel>=5.1.2->pydeck>=0.1.dev5->streamlit) (0.8.2)\n",
            "Requirement already satisfied: MarkupSafe>=0.23 in /usr/local/lib/python3.7/dist-packages (from jinja2->altair>=3.2.0->streamlit) (2.0.1)\n",
            "Requirement already satisfied: pyzmq>=13 in /usr/local/lib/python3.7/dist-packages (from jupyter-client<8.0->ipykernel>=5.1.2->pydeck>=0.1.dev5->streamlit) (22.3.0)\n",
            "Requirement already satisfied: jupyter-core>=4.6.0 in /usr/local/lib/python3.7/dist-packages (from jupyter-client<8.0->ipykernel>=5.1.2->pydeck>=0.1.dev5->streamlit) (4.8.1)\n",
            "Requirement already satisfied: ptyprocess>=0.5 in /usr/local/lib/python3.7/dist-packages (from pexpect>4.3->ipython<8.0,>=7.23.1->ipykernel>=5.1.2->pydeck>=0.1.dev5->streamlit) (0.7.0)\n",
            "Requirement already satisfied: wcwidth in /usr/local/lib/python3.7/dist-packages (from prompt-toolkit!=3.0.0,!=3.0.1,<3.1.0,>=2.0.0->ipython<8.0,>=7.23.1->ipykernel>=5.1.2->pydeck>=0.1.dev5->streamlit) (0.2.5)\n",
            "Requirement already satisfied: notebook>=4.4.1 in /usr/local/lib/python3.7/dist-packages (from widgetsnbextension~=3.5.0->ipywidgets>=7.0.0->pydeck>=0.1.dev5->streamlit) (5.3.1)\n",
            "Requirement already satisfied: terminado>=0.8.1 in /usr/local/lib/python3.7/dist-packages (from notebook>=4.4.1->widgetsnbextension~=3.5.0->ipywidgets>=7.0.0->pydeck>=0.1.dev5->streamlit) (0.12.1)\n",
            "Requirement already satisfied: Send2Trash in /usr/local/lib/python3.7/dist-packages (from notebook>=4.4.1->widgetsnbextension~=3.5.0->ipywidgets>=7.0.0->pydeck>=0.1.dev5->streamlit) (1.8.0)\n",
            "Requirement already satisfied: nbconvert in /usr/local/lib/python3.7/dist-packages (from notebook>=4.4.1->widgetsnbextension~=3.5.0->ipywidgets>=7.0.0->pydeck>=0.1.dev5->streamlit) (5.6.1)\n",
            "Requirement already satisfied: mistune<2,>=0.8.1 in /usr/local/lib/python3.7/dist-packages (from nbconvert->notebook>=4.4.1->widgetsnbextension~=3.5.0->ipywidgets>=7.0.0->pydeck>=0.1.dev5->streamlit) (0.8.4)\n",
            "Requirement already satisfied: bleach in /usr/local/lib/python3.7/dist-packages (from nbconvert->notebook>=4.4.1->widgetsnbextension~=3.5.0->ipywidgets>=7.0.0->pydeck>=0.1.dev5->streamlit) (4.1.0)\n",
            "Requirement already satisfied: pandocfilters>=1.4.1 in /usr/local/lib/python3.7/dist-packages (from nbconvert->notebook>=4.4.1->widgetsnbextension~=3.5.0->ipywidgets>=7.0.0->pydeck>=0.1.dev5->streamlit) (1.5.0)\n",
            "Requirement already satisfied: defusedxml in /usr/local/lib/python3.7/dist-packages (from nbconvert->notebook>=4.4.1->widgetsnbextension~=3.5.0->ipywidgets>=7.0.0->pydeck>=0.1.dev5->streamlit) (0.7.1)\n",
            "Requirement already satisfied: testpath in /usr/local/lib/python3.7/dist-packages (from nbconvert->notebook>=4.4.1->widgetsnbextension~=3.5.0->ipywidgets>=7.0.0->pydeck>=0.1.dev5->streamlit) (0.5.0)\n",
            "Requirement already satisfied: webencodings in /usr/local/lib/python3.7/dist-packages (from bleach->nbconvert->notebook>=4.4.1->widgetsnbextension~=3.5.0->ipywidgets>=7.0.0->pydeck>=0.1.dev5->streamlit) (0.5.1)\n",
            "Requirement already satisfied: pyparsing>=2.0.2 in /usr/local/lib/python3.7/dist-packages (from packaging->streamlit) (2.4.7)\n",
            "Requirement already satisfied: idna<3,>=2.5 in /usr/local/lib/python3.7/dist-packages (from requests->streamlit) (2.10)\n",
            "Requirement already satisfied: urllib3!=1.25.0,!=1.25.1,<1.26,>=1.21.1 in /usr/local/lib/python3.7/dist-packages (from requests->streamlit) (1.24.3)\n",
            "Requirement already satisfied: chardet<4,>=3.0.2 in /usr/local/lib/python3.7/dist-packages (from requests->streamlit) (3.0.4)\n",
            "Requirement already satisfied: certifi>=2017.4.17 in /usr/local/lib/python3.7/dist-packages (from requests->streamlit) (2021.5.30)\n",
            "Building wheels for collected packages: blinker\n",
            "  Building wheel for blinker (setup.py) ... \u001b[?25l\u001b[?25hdone\n",
            "  Created wheel for blinker: filename=blinker-1.4-py3-none-any.whl size=13478 sha256=dff395ee1daf1a48bafc5d3ce1d794f22434e79595e69cb3a8f0700877d70fd3\n",
            "  Stored in directory: /root/.cache/pip/wheels/22/f5/18/df711b66eb25b21325c132757d4314db9ac5e8dabeaf196eab\n",
            "Successfully built blinker\n",
            "Installing collected packages: smmap, gitdb, watchdog, validators, gitpython, blinker, base58, streamlit\n",
            "Successfully installed base58-2.1.0 blinker-1.4 gitdb-4.0.7 gitpython-3.1.24 smmap-4.0.0 streamlit-1.0.0 validators-0.18.2 watchdog-2.1.6\n",
            "Collecting pyngrok\n",
            "  Downloading pyngrok-5.1.0.tar.gz (745 kB)\n",
            "\u001b[K     |████████████████████████████████| 745 kB 4.3 MB/s \n",
            "\u001b[?25hRequirement already satisfied: PyYAML in /usr/local/lib/python3.7/dist-packages (from pyngrok) (3.13)\n",
            "Building wheels for collected packages: pyngrok\n",
            "  Building wheel for pyngrok (setup.py) ... \u001b[?25l\u001b[?25hdone\n",
            "  Created wheel for pyngrok: filename=pyngrok-5.1.0-py3-none-any.whl size=19006 sha256=475940089fd25cce1a552bef976841b73eeea83cd89cb1ac271890443fbb7027\n",
            "  Stored in directory: /root/.cache/pip/wheels/bf/e6/af/ccf6598ecefecd44104069371795cb9b3afbcd16987f6ccfb3\n",
            "Successfully built pyngrok\n",
            "Installing collected packages: pyngrok\n",
            "Successfully installed pyngrok-5.1.0\n"
          ]
        }
      ]
    },
    {
      "cell_type": "markdown",
      "metadata": {
        "id": "MCXJCZI-kPck"
      },
      "source": [
        "#7 Gerar o Pickle"
      ]
    },
    {
      "cell_type": "code",
      "metadata": {
        "id": "HW2eGrvrkOrD"
      },
      "source": [
        "arquivo = open(\"dump.pkl\", \"wb\")\n",
        "pickle.dump([rf,], arquivo)\n",
        "#0 é o modelo e na posição 1 é o StandScaler\n",
        "arquivo.close()\n"
      ],
      "execution_count": 14,
      "outputs": []
    },
    {
      "cell_type": "markdown",
      "metadata": {
        "id": "3RYoJzkqp-uh"
      },
      "source": [
        "#8 Criar Arquivo"
      ]
    },
    {
      "cell_type": "code",
      "metadata": {
        "id": "0W40tP2YoBhc",
        "colab": {
          "base_uri": "https://localhost:8080/"
        },
        "outputId": "c840b7a7-315d-419b-b9c2-bf46a3625f5b"
      },
      "source": [
        "%%writefile app.py\n",
        "\n",
        "import streamlit as st\n",
        "import pandas as pd\n",
        "import pickle\n",
        "from sklearn.ensemble import RandomForestClassifier\n",
        "from sklearn.tree import export_graphviz\n",
        "\n",
        "st.write(\"# PREDIÇÃO DA COVID-19\")\n",
        "\n",
        "st.sidebar.write(\"## Parâmetros\")\n",
        "#teste = st.sidebar.slider('teste', 3.4, 38.1)\n",
        "Hemograma_com_Plaquetas_CHCM = st.sidebar.slider(\"Hemograma com Plaquetas_CHCM\", 20, 40)\n",
        "Hemograma_com_Plaquetas_Hematócrito = st.sidebar.slider(\"Hemograma com Plaquetas_Hematócrito\", 10, 65)\n",
        "Hemograma_com_Plaquetas_Hemácias = st.sidebar.slider(\"Hemograma com Plaquetas_Hemácias\", 0, 10)\n",
        "Hemograma_com_Plaquetas_Plaquetas = st.sidebar.slider(\"Hemograma com Plaquetas_Plaquetas\", 0 , 1000)\n",
        "Hemograma_com_Plaquetas_VCM = st.sidebar.slider(\"Hemograma com Plaquetas_VCM\", 50 , 130)\n",
        "Hemograma_com_Plaquetas_HCM = st.sidebar.slider(\"Hemograma com Plaquetas_HCM\", 10 , 50)\n",
        "Hemograma_com_Plaquetas_Hemoglobina = st.sidebar.slider(\"Hemograma com Plaquetas_Hemoglobina\", 0 , 25)\n",
        "Hemograma_com_Plaquetas_Leucócitos = st.sidebar.slider(\"Hemograma com Plaquetas_Leucócitos\", 0 , 50)\n",
        "Hemograma_com_Plaquetas_Leucócitos_percentual = st.sidebar.slider(\"Hemograma com Plaquetas_Leucócitos #\", 0 , 40000)\n",
        "Hemograma_com_Plaquetas_RDW = st.sidebar.slider(\"Hemograma com Plaquetas_RDW\", 10 , 30)\n",
        "Hemograma_com_Plaquetas_Volume_Médio_Plaquetário = st.sidebar.slider(\"Hemograma com Plaquetas_Volume Médio Plaquetário\", 5 , 17)\n",
        "Dosagem_de_Uréia_Uréia = st.sidebar.slider(\"Dosagem de Uréia_Uréia\", 0 , 250)\n",
        "Hemograma_Contagem_Auto_Linfócitos = st.sidebar.slider(\"Hemograma Contagem Auto_Linfócitos\", 0 , 90)\n",
        "Hemograma_Contagem_Auto_Basófilos = st.sidebar.slider(\"Hemograma Contagem Auto_Basófilos\", 0 , 5)\n",
        "Hemograma_Contagem_Auto_Basófilos_percentual = st.sidebar.slider(\"Hemograma Contagem Auto_Basófilos #\", 0 , 200)\n",
        "Hemograma_Contagem_Auto_Eosinófilos = st.sidebar.slider(\"Hemograma Contagem Auto_Eosinófilos\", 0 , 23)\n",
        "\n",
        "\n",
        "st.write(\"Este é um aplicativo de dados desenvolvido para a predição do covid\")\n",
        "st.write(\"Data: 10/10/2021\")\n",
        "\n",
        "modelo = open(\"dump.pkl\", \"rb\")\n",
        "rf = pickle.load(modelo)[0]\n",
        "modelo.close()\n",
        "\n",
        "dados = {\n",
        "'Hemograma_com_Plaquetas_CHCM' : Hemograma_com_Plaquetas_CHCM,\n",
        "'Hemograma_com_Plaquetas_Hematócrito' : Hemograma_com_Plaquetas_Hematócrito,\n",
        "'Hemograma_com_Plaquetas_Hemácias' : Hemograma_com_Plaquetas_Hemácias,\n",
        "'Hemograma_com_Plaquetas_Plaquetas' : Hemograma_com_Plaquetas_Plaquetas,\n",
        "'Hemograma_com_Plaquetas_VCM' : Hemograma_com_Plaquetas_VCM,\n",
        "'Hemograma_com_Plaquetas_HCM' : Hemograma_com_Plaquetas_HCM,\n",
        "'Hemograma_com_Plaquetas_Hemoglobina' : Hemograma_com_Plaquetas_Hemoglobina,\n",
        "'Hemograma_com_Plaquetas_Leucócitos' : Hemograma_com_Plaquetas_Leucócitos,\n",
        "'Hemograma_com_Plaquetas_Leucócitos_percentual' : Hemograma_com_Plaquetas_Leucócitos_percentual,\n",
        "'Hemograma_com_Plaquetas_RDW' : Hemograma_com_Plaquetas_RDW,\n",
        "'Hemograma_com_Plaquetas_Volume_Médio_Plaquetário' : Hemograma_com_Plaquetas_Volume_Médio_Plaquetário,\n",
        "'Dosagem_de_Uréia_Uréia' : Dosagem_de_Uréia_Uréia,\n",
        "'Hemograma_Contagem_Auto_Linfócitos' : Hemograma_Contagem_Auto_Linfócitos,\n",
        "'Hemograma_Contagem_Auto_Basófilos' : Hemograma_Contagem_Auto_Basófilos,\n",
        "'Hemograma_Contagem_Auto_Basófilos_percentual' : Hemograma_Contagem_Auto_Basófilos_percentual,\n",
        "'Hemograma_Contagem_Auto_Eosinófilos' : Hemograma_Contagem_Auto_Eosinófilos,\n",
        "}\n",
        "\n",
        "entrada = pd.DataFrame(dados, index=[0])\n",
        "\n",
        "st.write(\"## Dados de entrada:\")\n",
        "st.write(entrada)\n",
        "\n",
        "#predicao = rf.predict(entrada)\n",
        "st.write(\"## Probabilidade de estar contaminado ou não com a doença:\")\n",
        "#st.write(predicao)\n",
        "\n",
        "predicao_proba = rf.predict_proba(entrada)\n",
        "st.write(predicao_proba)\n",
        "\n",
        "#st.write(rf.feature_importances_)\n",
        "\n",
        "#decisao = export_graphviz(rf, filled=True, feature_names=entrada.columns, out_file=None)\n",
        "#st.graphviz_chart(decisao)"
      ],
      "execution_count": 31,
      "outputs": [
        {
          "output_type": "stream",
          "name": "stdout",
          "text": [
            "Overwriting app.py\n"
          ]
        }
      ]
    },
    {
      "cell_type": "markdown",
      "metadata": {
        "id": "2lEIZuoag3Gt"
      },
      "source": [
        "# 9 Executar o streamlit com o arquivo"
      ]
    },
    {
      "cell_type": "code",
      "metadata": {
        "id": "7oEy1TrMbMa3"
      },
      "source": [
        "!streamlit run app.py &>dev>null&"
      ],
      "execution_count": 15,
      "outputs": []
    },
    {
      "cell_type": "markdown",
      "metadata": {
        "id": "3guWdBbDg9cO"
      },
      "source": [
        "#10 Executar o NGrok"
      ]
    },
    {
      "cell_type": "code",
      "metadata": {
        "id": "ckKpKhY2bjdZ",
        "colab": {
          "base_uri": "https://localhost:8080/"
        },
        "outputId": "34711cac-8e80-42a6-fac2-4b49d8ca1ac0"
      },
      "source": [
        "from pyngrok import ngrok\n",
        "url = ngrok.connect(8501)\n",
        "url"
      ],
      "execution_count": 17,
      "outputs": [
        {
          "output_type": "stream",
          "name": "stdout",
          "text": [
            ""
          ]
        },
        {
          "output_type": "execute_result",
          "data": {
            "text/plain": [
              "<NgrokTunnel: \"http://5ccc-35-236-186-233.ngrok.io\" -> \"http://localhost:8501\">"
            ]
          },
          "metadata": {},
          "execution_count": 17
        }
      ]
    },
    {
      "cell_type": "code",
      "metadata": {
        "colab": {
          "base_uri": "https://localhost:8080/",
          "height": 202
        },
        "id": "NT-DQppSaKj4",
        "outputId": "5e30652b-f2c1-490e-857a-ffbb2542cdbf"
      },
      "source": [
        "import pandas as pd\n",
        "\n",
        "dfpac = pd.read_csv(\"/content/drive/MyDrive/TCC/EINSTEIN_Pacientes_2.csv\", sep='|')\n",
        "dfpac.head()"
      ],
      "execution_count": 21,
      "outputs": [
        {
          "output_type": "execute_result",
          "data": {
            "text/html": [
              "<div>\n",
              "<style scoped>\n",
              "    .dataframe tbody tr th:only-of-type {\n",
              "        vertical-align: middle;\n",
              "    }\n",
              "\n",
              "    .dataframe tbody tr th {\n",
              "        vertical-align: top;\n",
              "    }\n",
              "\n",
              "    .dataframe thead th {\n",
              "        text-align: right;\n",
              "    }\n",
              "</style>\n",
              "<table border=\"1\" class=\"dataframe\">\n",
              "  <thead>\n",
              "    <tr style=\"text-align: right;\">\n",
              "      <th></th>\n",
              "      <th>ID_PACIENTE</th>\n",
              "      <th>IC_SEXO</th>\n",
              "      <th>AA_NASCIMENTO</th>\n",
              "      <th>CD_UF</th>\n",
              "      <th>CD_MUNICIPIO</th>\n",
              "      <th>CD_CEPREDUZIDO</th>\n",
              "      <th>CD_PAIS</th>\n",
              "    </tr>\n",
              "  </thead>\n",
              "  <tbody>\n",
              "    <tr>\n",
              "      <th>0</th>\n",
              "      <td>13d016bccfdd1b92039607f025f9dd87a03c3bcb</td>\n",
              "      <td>M</td>\n",
              "      <td>1961</td>\n",
              "      <td>SP</td>\n",
              "      <td>SAO PAULO</td>\n",
              "      <td>CCCC</td>\n",
              "      <td>BR</td>\n",
              "    </tr>\n",
              "    <tr>\n",
              "      <th>1</th>\n",
              "      <td>dd3867bd301ef64a20e8a4f62b661ecea83c3a64</td>\n",
              "      <td>M</td>\n",
              "      <td>1980</td>\n",
              "      <td>SP</td>\n",
              "      <td>CARAPICUIBA</td>\n",
              "      <td>CCCC</td>\n",
              "      <td>BR</td>\n",
              "    </tr>\n",
              "    <tr>\n",
              "      <th>2</th>\n",
              "      <td>08b0c43e08784fe685588a6fec4425c2e3a6f136</td>\n",
              "      <td>M</td>\n",
              "      <td>1959</td>\n",
              "      <td>SP</td>\n",
              "      <td>SAO PAULO</td>\n",
              "      <td>CCCC</td>\n",
              "      <td>BR</td>\n",
              "    </tr>\n",
              "    <tr>\n",
              "      <th>3</th>\n",
              "      <td>8106880fb080a34ae9ef20a64884e8a1a8772c68</td>\n",
              "      <td>F</td>\n",
              "      <td>1971</td>\n",
              "      <td>SP</td>\n",
              "      <td>SAO PAULO</td>\n",
              "      <td>CCCC</td>\n",
              "      <td>BR</td>\n",
              "    </tr>\n",
              "    <tr>\n",
              "      <th>4</th>\n",
              "      <td>dd02af1a979c3b31010fe39be0bc9f3380f29047</td>\n",
              "      <td>F</td>\n",
              "      <td>1982</td>\n",
              "      <td>SP</td>\n",
              "      <td>MMMM</td>\n",
              "      <td>CCCC</td>\n",
              "      <td>BR</td>\n",
              "    </tr>\n",
              "  </tbody>\n",
              "</table>\n",
              "</div>"
            ],
            "text/plain": [
              "                                ID_PACIENTE IC_SEXO  ... CD_CEPREDUZIDO CD_PAIS\n",
              "0  13d016bccfdd1b92039607f025f9dd87a03c3bcb       M  ...           CCCC      BR\n",
              "1  dd3867bd301ef64a20e8a4f62b661ecea83c3a64       M  ...           CCCC      BR\n",
              "2  08b0c43e08784fe685588a6fec4425c2e3a6f136       M  ...           CCCC      BR\n",
              "3  8106880fb080a34ae9ef20a64884e8a1a8772c68       F  ...           CCCC      BR\n",
              "4  dd02af1a979c3b31010fe39be0bc9f3380f29047       F  ...           CCCC      BR\n",
              "\n",
              "[5 rows x 7 columns]"
            ]
          },
          "metadata": {},
          "execution_count": 21
        }
      ]
    },
    {
      "cell_type": "code",
      "metadata": {
        "colab": {
          "base_uri": "https://localhost:8080/",
          "height": 292
        },
        "id": "Ruf25CsLR9Oa",
        "outputId": "a0467d5d-d3e4-40a7-b027-d2d1b343bc9a"
      },
      "source": [
        "df = dfpac.join(dfFinal.set_index('ID_PACIENTE'), on='ID_PACIENTE')"
      ],
      "execution_count": 22,
      "outputs": [
        {
          "output_type": "error",
          "ename": "KeyError",
          "evalue": "ignored",
          "traceback": [
            "\u001b[0;31m---------------------------------------------------------------------------\u001b[0m",
            "\u001b[0;31mKeyError\u001b[0m                                  Traceback (most recent call last)",
            "\u001b[0;32m/tmp/ipykernel_135/1034511609.py\u001b[0m in \u001b[0;36m<module>\u001b[0;34m\u001b[0m\n\u001b[0;32m----> 1\u001b[0;31m \u001b[0mdf\u001b[0m \u001b[0;34m=\u001b[0m \u001b[0mdfpac\u001b[0m\u001b[0;34m.\u001b[0m\u001b[0mjoin\u001b[0m\u001b[0;34m(\u001b[0m\u001b[0mdfFinal\u001b[0m\u001b[0;34m.\u001b[0m\u001b[0mset_index\u001b[0m\u001b[0;34m(\u001b[0m\u001b[0;34m'ID_PACIENTE'\u001b[0m\u001b[0;34m)\u001b[0m\u001b[0;34m,\u001b[0m \u001b[0mon\u001b[0m\u001b[0;34m=\u001b[0m\u001b[0;34m'ID_PACIENTE'\u001b[0m\u001b[0;34m)\u001b[0m\u001b[0;34m\u001b[0m\u001b[0;34m\u001b[0m\u001b[0m\n\u001b[0m",
            "\u001b[0;32m/usr/local/lib/python3.7/dist-packages/pandas/core/frame.py\u001b[0m in \u001b[0;36mset_index\u001b[0;34m(self, keys, drop, append, inplace, verify_integrity)\u001b[0m\n\u001b[1;32m   4553\u001b[0m \u001b[0;34m\u001b[0m\u001b[0m\n\u001b[1;32m   4554\u001b[0m         \u001b[0;32mif\u001b[0m \u001b[0mmissing\u001b[0m\u001b[0;34m:\u001b[0m\u001b[0;34m\u001b[0m\u001b[0;34m\u001b[0m\u001b[0m\n\u001b[0;32m-> 4555\u001b[0;31m             \u001b[0;32mraise\u001b[0m \u001b[0mKeyError\u001b[0m\u001b[0;34m(\u001b[0m\u001b[0;34mf\"None of {missing} are in the columns\"\u001b[0m\u001b[0;34m)\u001b[0m\u001b[0;34m\u001b[0m\u001b[0;34m\u001b[0m\u001b[0m\n\u001b[0m\u001b[1;32m   4556\u001b[0m \u001b[0;34m\u001b[0m\u001b[0m\n\u001b[1;32m   4557\u001b[0m         \u001b[0;32mif\u001b[0m \u001b[0minplace\u001b[0m\u001b[0;34m:\u001b[0m\u001b[0;34m\u001b[0m\u001b[0;34m\u001b[0m\u001b[0m\n",
            "\u001b[0;31mKeyError\u001b[0m: \"None of ['ID_PACIENTE'] are in the columns\""
          ]
        }
      ]
    }
  ]
}